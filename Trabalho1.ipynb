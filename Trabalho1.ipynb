{
 "cells": [
  {
   "cell_type": "markdown",
   "metadata": {},
   "source": [
    "# Trabalho Pŕatico 1 - Computação Gráfica\n",
    "Feito por Gustavo Leão e Luigi Eliabe"
   ]
  },
  {
   "cell_type": "markdown",
   "metadata": {},
   "source": [
    "## Classes\n",
    "\n",
    "A seguir estão as classes que foram utilizadas no trabalho, elas que representam os objetos que vão ser utilizados no nosso código, cada um carregando seus atributos e utilizando-se de outras classes, como por exemplo a classe Reta, utiliza um vetor para armazenar objetos da classe Ponto."
   ]
  },
  {
   "cell_type": "code",
   "execution_count": 1,
   "metadata": {},
   "outputs": [],
   "source": [
    "class Window:\n",
    "    def __init__(self,minX,minY,maxX,maxY) -> None:\n",
    "        self.minX = minX\n",
    "        self.minY = minY\n",
    "        self.maxX = maxX\n",
    "        self.maxY = maxY\n",
    "        pass\n",
    "\n",
    "    def __str__(self) -> str:\n",
    "        \n",
    "        return (f\"({self.minX},{self.minY},{self.maxX},{self.maxY})\")"
   ]
  },
  {
   "cell_type": "code",
   "execution_count": 2,
   "metadata": {},
   "outputs": [],
   "source": [
    "class Viewport:\n",
    "    def __init__(self,minX,minY,maxX,maxY) -> None:\n",
    "        self.minX = minX\n",
    "        self.minY = minY\n",
    "        self.maxX = maxX\n",
    "        self.maxY = maxY\n",
    "        pass\n",
    "\n",
    "    def __str__(self) -> str:\n",
    "        \n",
    "        return (f\"({self.minX},{self.minY},{self.maxX},{self.maxY})\")"
   ]
  },
  {
   "cell_type": "code",
   "execution_count": 3,
   "metadata": {},
   "outputs": [],
   "source": [
    "class Ponto:\n",
    "    def __init__(self,x,y) -> None:\n",
    "        self.x = x\n",
    "        self.y = y\n",
    "        pass\n",
    "\n",
    "    def __str__(self) -> str:\n",
    "        return (f\"({self.x},{self.y})\")\n"
   ]
  },
  {
   "cell_type": "code",
   "execution_count": 4,
   "metadata": {},
   "outputs": [],
   "source": [
    "class Reta:\n",
    "    def __init__(self,*pontos) -> None:\n",
    "        self.pontosReta = []\n",
    "        for ponto in pontos:\n",
    "            self.pontosReta.append(ponto)\n",
    "        pass\n",
    "\n",
    "    def __str__(self) -> str:\n",
    "        return '('+','.join(str(e) for e in self.pontosReta)+')'"
   ]
  },
  {
   "cell_type": "code",
   "execution_count": 5,
   "metadata": {},
   "outputs": [],
   "source": [
    "class Poligono:\n",
    "\n",
    "    def __init__(self,*pontos) -> None:\n",
    "        self.pontosPoligono = []\n",
    "        for ponto in pontos:\n",
    "            self.pontosPoligono.append(ponto)\n",
    "        pass\n",
    "\n",
    "    \n",
    "    def __str__(self) -> str:\n",
    "        return '('+','.join(str(e) for e in self.pontosPoligono)+')'"
   ]
  },
  {
   "cell_type": "markdown",
   "metadata": {},
   "source": [
    "## Leitura do Arquivo XML\n",
    "\n",
    "Temos em seguida, a classe responsável por fazer a leitura do arquivo de entrada, nela utilizamos a biblioteca ElementTree para poder fazer a identificação dos objetos e as leituras dos atributos contido nas tags do arquivo. Dentro dessa classe é possível ver comentários adicionados por nós, para servir de auxílio sobre os métodos contidos na biblioteca utilizada, e como foi feita as leituras dos valores."
   ]
  },
  {
   "cell_type": "code",
   "execution_count": 6,
   "metadata": {},
   "outputs": [],
   "source": [
    "class LerXML:\n",
    "    import xml.etree.ElementTree as Et\n",
    "    \n",
    "    def __init__(self,file) -> None:\n",
    "        \n",
    "        tree = self.Et.parse(file) #Gera uma árvore com o arquivo\n",
    "        self.raiz = tree.getroot()          #Define a raiz\n",
    "\n",
    "\n",
    "        #Percorre as raizes do arquivos, procurando todas as TAGS com esse nome\n",
    "        #Nesse caso estamos percorrendo para pegar os valores da ViewPort\n",
    "        for view in self.raiz.findall('viewport/vpmin'):\n",
    "            vpmin = view.attrib #Atribui os atributos da TAG\n",
    "\n",
    "        for view in self.raiz.findall('viewport/vpmax'):\n",
    "            vpmax = view.attrib\n",
    "\n",
    "        vpminX = float(vpmin.get('x')) #Pega o atributo X\n",
    "        vpminY = float(vpmin.get('y')) #Pega o atributo Y\n",
    "        vpmaxX = float(vpmax.get('x'))\n",
    "        vpmaxY = float(vpmax.get('y'))\n",
    "\n",
    "\n",
    "        #Vamos pegar agora os valores da Window\n",
    "        for win in self.raiz.findall('window/wmin'):\n",
    "            wmin = win.attrib\n",
    "\n",
    "        for win in self.raiz.findall('window/wmax'):\n",
    "            wmax = win.attrib\n",
    "\n",
    "        wminX = float(wmin.get('x'))\n",
    "        wminY = float(wmin.get('y'))\n",
    "        wmaxX = float(wmax.get('x'))\n",
    "        wmaxY = float(wmax.get('y'))\n",
    "\n",
    "\n",
    "        self.janela = Window(wminX,wminY,wmaxX,wmaxY)            #Criando a instância da Window\n",
    "        self.viewport = Viewport(vpminX,vpminY,vpmaxX,vpmaxY)    #Criando a instância da Viewport\n",
    "\n",
    "\n",
    "\n",
    "        #Pegando os valores dos pontos\n",
    "        self.pontos = [] #Criando um vetor de Pontos\n",
    "        for pon in self.raiz.findall('ponto'):\n",
    "            ponto = pon.attrib\n",
    "            ponX = float(ponto.get('x'))\n",
    "            ponY = float(ponto.get('y'))\n",
    "            self.pontos.append(Ponto(ponX,ponY))    #Adicionando os pontos ao valores\n",
    "\n",
    "        #Pegando valores das Retas\n",
    "        pontoRetas = [] #Criamos um vetor de pontos da reta\n",
    "        self.retas = []      #Criamos um vetor com as retas\n",
    "\n",
    "        for ret in self.raiz.findall('reta'):\n",
    "            pontoRetas.clear()\n",
    "            for ponto in ret:\n",
    "                x = float(ponto.attrib.get('x'))\n",
    "                y = float(ponto.attrib.get('y'))\n",
    "                pontoRetas.append(Ponto(x,y)) #salvando os pontos da reta em um vetor\n",
    "            reta = Reta(*pontoRetas)\n",
    "            self.retas.append(reta) #salvadno a reta em um vetor\n",
    "\n",
    "        \n",
    "        #Pegar os pontos do Poligono\n",
    "        pontosPoligono = [] #Fazemos o mesmo esquema das retas\n",
    "        self.poligonos = []\n",
    "        for poli in self.raiz.findall('poligono'):\n",
    "            pontosPoligono.clear()\n",
    "            for ponto in poli:\n",
    "                x = float(ponto.attrib.get('x'))\n",
    "                y = float(ponto.attrib.get('y'))\n",
    "                pontosPoligono.append(Ponto(x,y))\n",
    "            poligono = Poligono(*pontosPoligono)\n",
    "            self.poligonos.append(poligono) #Mandamos um vetor de pontos para salvar o poli\n",
    "    "
   ]
  },
  {
   "cell_type": "markdown",
   "metadata": {},
   "source": [
    "## Classe para Criar o Arquivo\n",
    "\n",
    "Após ser feito a leitura do arquivo e pego os valores contido no mesmo, usamos a seguinte classe para criar um arquivo XML com os valores alterados pela transformação de ViewPort. Nela é importada a mesma biblioteca utilizada para ler o arquivo, para poder manipular e alterar os valores dos atributos das TAGS."
   ]
  },
  {
   "cell_type": "code",
   "execution_count": 7,
   "metadata": {},
   "outputs": [],
   "source": [
    "class CriarXML:\n",
    "    import xml.etree.ElementTree as Et\n",
    "\n",
    "    def __init__(self,file,pontos,retas,poligonos) -> None:\n",
    "        arq = self.Et.parse(file) \n",
    "        self.raiz = arq.getroot()\n",
    "\n",
    "        i=0\n",
    "        for self.ponto in self.raiz.findall('ponto'):\n",
    "            self.ponto.set('x',str(pontos[i].x))    #Comando para trocar  os atributos \n",
    "            self.ponto.set('y',str(pontos[i].y))    #Atributo, valor modificar\n",
    "            i+=1       #Conta a quantidade de pontos\n",
    "        i=0\n",
    "        for self.reta in self.raiz.findall('reta'):\n",
    "            j=0         #reseta a cada reta, pois uma reta vai ser limitada a 2 pontos\n",
    "            for h in self.reta.findall('ponto'):\n",
    "                h.set('x',str(retas[i].pontosReta[j].x))\n",
    "                h.set('y',str(retas[i].pontosReta[j].y))\n",
    "                j+=1    #Conta a quantidade de pontos\n",
    "            i+=1        #Conta a quantidade de retas\n",
    "            \n",
    "        i=0\n",
    "        for self.poli in self.raiz.findall('poligono'):\n",
    "            j=0         #reseta a cada reta, pois uma reta vai ser limitada a 2 pontos\n",
    "            for h in self.poli.findall('ponto'):\n",
    "                h.set('x',str(poligonos[i].pontosPoligono[j].x))\n",
    "                h.set('y',str(poligonos[i].pontosPoligono[j].y))\n",
    "                j+=1    #Conta a quantidade de pontos no poli\n",
    "            i+=1        #Conta a quantidade de poli\n",
    "\n",
    "        arq.write('NovoArquivo.xml')\n"
   ]
  },
  {
   "cell_type": "markdown",
   "metadata": {},
   "source": [
    "## Transformada de Viewport\n",
    "\n",
    "Essa classe pega os valores obtidos no arquivo e transforma para os valores na viewport."
   ]
  },
  {
   "cell_type": "code",
   "execution_count": 8,
   "metadata": {},
   "outputs": [],
   "source": [
    "class Transformada:\n",
    "\n",
    "    def __init__(self,win,view) -> None:\n",
    "        self.win = win\n",
    "        self.view = view\n",
    "        pass\n",
    "\n",
    "    def transformarPonto(self,x,y) -> Ponto:\n",
    "        self.pontoX = (((x-self.win.minX)/(self.win.maxX-self.win.minX))*(self.view.maxX-self.view.minX))\n",
    "        self.pontoY = ((1-(y-self.win.minY)/(self.win.maxY-self.win.minY))*(self.view.maxY-self.view.minY))\n",
    "        return Ponto(self.pontoX,self.pontoY)\n",
    "    \n",
    "    def transformarReta(self,pontos) -> Reta:\n",
    "        pontosTrans = []\n",
    "        for x in pontos:\n",
    "            pontosTrans.append(self.transformarPonto(x.x,x.y))\n",
    "        return Reta(*pontosTrans)\n",
    "            \n",
    "    \n",
    "    def transformarPoli(self,pontos) -> Poligono:\n",
    "        pontosTrans = []\n",
    "        for x in pontos:\n",
    "            pontosTrans.append(self.transformarPonto(x.x,x.y))\n",
    "        return Poligono(*pontosTrans)\n",
    "            \n",
    "    def __str__(self) -> str:\n",
    "        return (f\"Viewport: {self.view}\\nWindow: {self.win}\")"
   ]
  },
  {
   "cell_type": "markdown",
   "metadata": {},
   "source": [
    "## Importação do QT\n",
    "\n",
    "Usamos o comando _pip install pyside6_ para instalar os pacotes QT que serão utilizados em Python"
   ]
  },
  {
   "cell_type": "code",
   "execution_count": 9,
   "metadata": {},
   "outputs": [],
   "source": [
    "from PySide6 import QtCore, QtWidgets, QtGui\n",
    "\n",
    "class MyWidget(QtWidgets.QWidget):\n",
    "    def __init__(self):\n",
    "        super().__init__()\n",
    "\n",
    "\n",
    "        self.button = QtWidgets.QPushButton(\"Open\")\n",
    "        self.button2 = QtWidgets.QPushButton(\"Save\")\n",
    "\n",
    "        self.layout = QtWidgets.QVBoxLayout(self)\n",
    "\n",
    "        self.layout.addWidget(self.button)\n",
    "        self.layout.addWidget(self.button2)\n",
    "        self.button.clicked.connect(self.LerArq)\n",
    "        self.button2.clicked.connect(self.SaveArq)\n",
    "\n",
    "\n",
    "\n",
    "    @QtCore.Slot()\n",
    "\n",
    "    def LerArq(self):\n",
    "        self.arq = QtWidgets.QFileDialog.getOpenFileName()[0]\n",
    "            \n",
    "        file = LerXML(self.arq)\n",
    "        trans = Transformada(file.janela,file.viewport)\n",
    "        print(trans)\n",
    "\n",
    "        self.pontosTransformados = []\n",
    "        self.retasTransformados = []\n",
    "        self.poligonosTransformados = []\n",
    "\n",
    "        for x in file.pontos:\n",
    "            self.pontosTransformados.append(trans.transformarPonto(x.x,x.y))\n",
    "\n",
    "        for retas in file.retas:\n",
    "            self.retasTransformados.append(trans.transformarReta(retas.pontosReta))\n",
    "\n",
    "        for poli in file.poligonos:\n",
    "            self.poligonosTransformados.append(trans.transformarPoli(poli.pontosPoligono))\n",
    "        \n",
    "        for x in self.pontosTransformados:\n",
    "            print(x)\n",
    "\n",
    "        for x in self.retasTransformados:\n",
    "            print(x)\n",
    "            \n",
    "        for x in self.poligonosTransformados:\n",
    "            print(x)\n",
    "\n",
    "    def SaveArq(self):\n",
    "        CriarXML(self.arq,self.pontosTransformados,self.retasTransformados,self.poligonosTransformados)"
   ]
  },
  {
   "cell_type": "markdown",
   "metadata": {},
   "source": [
    "## Main"
   ]
  },
  {
   "cell_type": "code",
   "execution_count": 10,
   "metadata": {},
   "outputs": [
    {
     "name": "stdout",
     "output_type": "stream",
     "text": [
      "Viewport: (10.0,10.0,630.0,470.0)\n",
      "Window: (0.0,0.0,10.0,10.0)\n",
      "(0.0,368.0)\n",
      "(124.0,276.0)\n",
      "(248.0,184.0)\n",
      "((124.0,368.0),(248.0,276.0))\n",
      "((248.0,276.0),(124.0,184.0))\n",
      "((62.0,414.0),(62.0,368.0),(124.0,368.0),(124.0,414.0))\n"
     ]
    },
    {
     "ename": "SystemExit",
     "evalue": "0",
     "output_type": "error",
     "traceback": [
      "An exception has occurred, use %tb to see the full traceback.\n",
      "\u001b[0;31mSystemExit\u001b[0m\u001b[0;31m:\u001b[0m 0\n"
     ]
    },
    {
     "name": "stderr",
     "output_type": "stream",
     "text": [
      "/home/agatha/.local/lib/python3.10/site-packages/IPython/core/interactiveshell.py:3585: UserWarning: To exit: use 'exit', 'quit', or Ctrl-D.\n",
      "  warn(\"To exit: use 'exit', 'quit', or Ctrl-D.\", stacklevel=1)\n"
     ]
    }
   ],
   "source": [
    "import sys\n",
    "if __name__ == '__main__':\n",
    "\n",
    "\n",
    "    app = QtWidgets.QApplication([])\n",
    "\n",
    "    widget = MyWidget()\n",
    "    widget.resize(800, 600)\n",
    "    widget.show()\n",
    "\n",
    "    \n",
    "   \n",
    "\n",
    "    \n",
    "\n",
    "    sys.exit(app.exec())"
   ]
  }
 ],
 "metadata": {
  "kernelspec": {
   "display_name": "Python 3",
   "language": "python",
   "name": "python3"
  },
  "language_info": {
   "codemirror_mode": {
    "name": "ipython",
    "version": 3
   },
   "file_extension": ".py",
   "mimetype": "text/x-python",
   "name": "python",
   "nbconvert_exporter": "python",
   "pygments_lexer": "ipython3",
   "version": "3.10.12"
  }
 },
 "nbformat": 4,
 "nbformat_minor": 2
}
