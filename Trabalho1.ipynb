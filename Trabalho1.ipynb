{
 "cells": [
  {
   "cell_type": "markdown",
   "metadata": {},
   "source": [
    "# Trabalho Pŕatico 1 - Computação Gráfica\n",
    "Feito por Gustavo Leão e Luigi Eliabe"
   ]
  },
  {
   "cell_type": "code",
   "execution_count": 201,
   "metadata": {},
   "outputs": [],
   "source": [
    "class Window:\n",
    "    def __init__(self,minX,minY,maxX,maxY) -> None:\n",
    "        self.minX = minX\n",
    "        self.minY = minY\n",
    "        self.maxX = maxX\n",
    "        self.maxY = maxY\n",
    "        pass\n",
    "\n",
    "    def __str__(self) -> str:\n",
    "        \n",
    "        return (f\"({self.minX},{self.minY},{self.maxX},{self.maxY})\")"
   ]
  },
  {
   "cell_type": "code",
   "execution_count": 202,
   "metadata": {},
   "outputs": [],
   "source": [
    "class Viewport:\n",
    "    def __init__(self,minX,minY,maxX,maxY) -> None:\n",
    "        self.minX = minX\n",
    "        self.minY = minY\n",
    "        self.maxX = maxX\n",
    "        self.maxY = maxY\n",
    "        pass\n",
    "\n",
    "    def __str__(self) -> str:\n",
    "        \n",
    "        return (f\"({self.minX},{self.minY},{self.maxX},{self.maxY})\")"
   ]
  },
  {
   "cell_type": "code",
   "execution_count": 203,
   "metadata": {},
   "outputs": [],
   "source": [
    "class Ponto:\n",
    "    def __init__(self,x,y) -> None:\n",
    "        self.x = x\n",
    "        self.y = y\n",
    "        pass\n",
    "\n",
    "    def __str__(self) -> str:\n",
    "        return (f\"({self.x},{self.y})\")\n"
   ]
  },
  {
   "cell_type": "code",
   "execution_count": 204,
   "metadata": {},
   "outputs": [],
   "source": [
    "class Reta:\n",
    "    def __init__(self,ponto1, ponto2) -> None:\n",
    "        self.ponto1 = ponto1\n",
    "        self.ponto2 = ponto2\n",
    "        pass\n",
    "\n",
    "    def __str__(self) -> str:\n",
    "        return (f\"({self.ponto1},{self.ponto2})\")"
   ]
  },
  {
   "cell_type": "code",
   "execution_count": 205,
   "metadata": {},
   "outputs": [],
   "source": [
    "class Poligono:\n",
    "\n",
    "    def __init__(self,*pontos) -> None:\n",
    "        self.pontosPoligono = []\n",
    "        for ponto in pontos:\n",
    "            self.pontosPoligono.append(ponto)\n",
    "        pass\n",
    "\n",
    "    \n",
    "    def __str__(self) -> str:\n",
    "        return '('+','.join(str(e) for e in self.pontosPoligono)+')'"
   ]
  },
  {
   "cell_type": "code",
   "execution_count": 249,
   "metadata": {},
   "outputs": [
    {
     "name": "stdout",
     "output_type": "stream",
     "text": [
      "(0.0,2.0)\n",
      "(2.0,4.0)\n",
      "(4.0,6.0)\n"
     ]
    }
   ],
   "source": [
    "class LerXML:\n",
    "    import xml.etree.ElementTree as Et\n",
    "\n",
    "    tree = Et.parse('entrada.xml') #Gera uma árvore com o arquivo\n",
    "    raiz = tree.getroot()          #Define a raiz\n",
    "\n",
    "\n",
    "    #Percorre as raizes do arquivos, procurando todas as TAGS com esse nome\n",
    "    #Nesse caso estamos percorrendo para pegar os valores da ViewPort\n",
    "    for view in raiz.findall('viewport/vpmin'):\n",
    "        vpmin = view.attrib #Atribui os atributos da TAG\n",
    "\n",
    "    for view in raiz.findall('viewport/vpmax'):\n",
    "        vpmax = view.attrib\n",
    "\n",
    "    vpminX = float(vpmin.get('x')) #Pega o atributo X\n",
    "    vpminY = float(vpmin.get('y')) #Pega o atributo Y\n",
    "    vpmaxX = float(vpmax.get('x'))\n",
    "    vpmaxY = float(vpmax.get('y'))\n",
    "\n",
    "\n",
    "    #Vamos pegar agora os valores da Window\n",
    "    for win in raiz.findall('window/wmin'):\n",
    "        wmin = win.attrib\n",
    "\n",
    "    for win in raiz.findall('window/wmax'):\n",
    "        wmax = win.attrib\n",
    "\n",
    "    wminX = float(wmin.get('x'))\n",
    "    wminY = float(wmin.get('y'))\n",
    "    wmaxX = float(wmax.get('x'))\n",
    "    wmaxY = float(wmax.get('y'))\n",
    "\n",
    "\n",
    "    janela = Window(wminX,wminY,wmaxX,wmaxY)            #Criando a instância da Window\n",
    "    viewport = Viewport(vpminX,vpminY,vpmaxX,vpmaxY)    #Criando a instância da Viewport\n",
    "\n",
    "\n",
    "\n",
    "    #Pegando os valores dos pontos\n",
    "    pontos = [] #Criando um vetor de Pontos\n",
    "    for pon in raiz.findall('ponto'):\n",
    "        ponto = pon.attrib\n",
    "        ponX = float(ponto.get('x'))\n",
    "        ponY = float(ponto.get('y'))\n",
    "        pontos.append(Ponto(ponX,ponY))                 #Adicionando os pontos ao valores\n",
    "\n",
    "    for x in pontos:\n",
    "        print(x)\n",
    "    #Pegando valores das Retas\n",
    "    pontoRetas = [] #Criamos um vetor de pontos da reta\n",
    "    retas = []      #Criamos um vetor com as retas\n",
    "    i=0             #contador de pontos da reta\n",
    "    for ret in raiz.findall('reta'):\n",
    "        for ponto in ret:\n",
    "            x = float(ponto.attrib.get('x'))\n",
    "            y = float(ponto.attrib.get('y'))\n",
    "            pontoRetas.append(Ponto(x,y)) #salvando os pontos da reta em um vetor\n",
    "        retas.append(Reta(pontoRetas[i],pontoRetas[i+1])) #salvadno a reta em um vetor\n",
    "        i+=2    \n",
    "    \n",
    "    # contador=0 \n",
    "    # retas = [] #Criamos um vetor de retas\n",
    "    # while contador < i:\n",
    "    #     #É adicionado dois pontos a reta\n",
    "    #     retas.append(Reta(pontoRetas[contador],pontoRetas[contador+1]))\n",
    "    #     contador+=2     #contador soma +2 pois uma reta sempre é formato de 2 pontos\n",
    "\n",
    "    #Pegar os pontos do Poligono\n",
    "    pontosPoligono = [] #Fazemos o mesmo esquema das retas\n",
    "    poligonos = []\n",
    "    for poli in raiz.findall('poligono'):\n",
    "        pontosPoligono.clear()\n",
    "        for ponto in poli:\n",
    "            x = float(ponto.attrib.get('x'))\n",
    "            y = float(ponto.attrib.get('y'))\n",
    "            pontosPoligono.append(Ponto(x,y))\n",
    "        poligono = Poligono(*pontosPoligono)\n",
    "        poligonos.append(poligono) #Mandamos um vetor de pontos para salvar o poli\n",
    "    \n",
    "    # poligonos.append(Poligono(pontosPoligono[0],pontosPoligono[1],pontosPoligono[2],pontosPoligono[3]))"
   ]
  },
  {
   "cell_type": "code",
   "execution_count": 300,
   "metadata": {},
   "outputs": [],
   "source": [
    "class Transformada:\n",
    "\n",
    "    def __init__(self,win,view) -> None:\n",
    "        self.win = win\n",
    "        self.view = view\n",
    "        pass\n",
    "\n",
    "    def transformarPonto(self,x,y) -> Ponto:\n",
    "        self.pontoX = (((x-self.win.minX)/(self.win.maxX-self.win.minX))*(self.view.maxX-self.view.minX))\n",
    "        self.pontoY = ((1-(y-self.win.minY)/(self.win.maxY-self.win.minY))*(self.view.maxY-self.view.minY))\n",
    "        return Ponto(self.pontoX,self.pontoY)\n",
    "    \n",
    "    def transformarReta(self,ponto1,ponto2) -> Reta:\n",
    "        self.ponto1 = self.transformarPonto(ponto1.x,ponto1.y)\n",
    "        self.ponto2 = self.transformarPonto(ponto2.x,ponto2.y)\n",
    "        return Reta(self.ponto1,self.ponto2)\n",
    "    \n",
    "    def transformarPoli(self,pontos) -> Poligono:\n",
    "        pontosTrans = []\n",
    "        for x in pontos:\n",
    "            pontosTrans.append(self.transformarPonto(x.x,x.y))\n",
    "        return Poligono(*pontosTrans)\n",
    "            \n",
    "    def __str__(self) -> str:\n",
    "        return (f\"Viewport: {self.view}\\nWindow: {self.win}\")"
   ]
  },
  {
   "cell_type": "code",
   "execution_count": 301,
   "metadata": {},
   "outputs": [
    {
     "name": "stdout",
     "output_type": "stream",
     "text": [
      "Viewport: (10.0,10.0,630.0,470.0)\n",
      "Window: (0.0,0.0,10.0,10.0)\n",
      "(0.0,368.0)\n",
      "(124.0,276.0)\n",
      "(248.0,184.0)\n",
      "((124.0,368.0),(248.0,276.0))\n",
      "((248.0,276.0),(124.0,184.0))\n",
      "((62.0,414.0),(62.0,368.0),(124.0,368.0),(124.0,414.0))\n"
     ]
    }
   ],
   "source": [
    "if __name__ == '__main__':\n",
    "\n",
    "    file = LerXML\n",
    "\n",
    "    trans = Transformada(file.janela,file.viewport)\n",
    "    print(trans)\n",
    "\n",
    "    for x in file.pontos:\n",
    "        print(trans.transformarPonto(x.x,x.y))\n",
    "\n",
    "    for retas in file.retas:\n",
    "        print(trans.transformarReta(retas.ponto1,retas.ponto2))\n",
    "\n",
    "    for poli in file.poligonos:\n",
    "        print(trans.transformarPoli(poli.pontosPoligono))\n",
    "   "
   ]
  }
 ],
 "metadata": {
  "kernelspec": {
   "display_name": "Python 3",
   "language": "python",
   "name": "python3"
  },
  "language_info": {
   "codemirror_mode": {
    "name": "ipython",
    "version": 3
   },
   "file_extension": ".py",
   "mimetype": "text/x-python",
   "name": "python",
   "nbconvert_exporter": "python",
   "pygments_lexer": "ipython3",
   "version": "3.10.12"
  }
 },
 "nbformat": 4,
 "nbformat_minor": 2
}
